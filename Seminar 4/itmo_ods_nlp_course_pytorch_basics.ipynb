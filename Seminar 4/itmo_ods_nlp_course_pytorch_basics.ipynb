{
  "cells": [
    {
      "cell_type": "markdown",
      "metadata": {
        "id": "YaFLTcQAHbSV"
      },
      "source": [
        "Pytorch - один из самых популярных фреймворков глубокого обучения для ML-специалистов. Фактически сегодня это еще и целая [экосистема](https://pytorch.org/ecosystem/) инструментов\n",
        "\n",
        "В библиотеке есть четыре ключевых составляющих:\n",
        "\n",
        "- Развитый инструментарий для работы с тензорами. Он похож на numpy, но даёт дополнительные возможности по контролю выделяемой памяти, что важно при работе с большими моделями и данными.\n",
        "- Простое построение динамического вычислительного графа, позволяющего получать градиенты целевых функций от параметров модели.\n",
        "- Большой набор готовых слоёв для построения нейронных сетей произвольной архитектуры.\n",
        "- Возможность перенаправлять вычисления на графические процессоры GPU.\n",
        "\n"
      ]
    },
    {
      "cell_type": "code",
      "execution_count": null,
      "metadata": {
        "id": "3EpI8IEdHbSX"
      },
      "outputs": [],
      "source": [
        "import torch"
      ]
    },
    {
      "cell_type": "markdown",
      "metadata": {
        "id": "rRx-3BmvHbSW"
      },
      "source": [
        "### Тензоры\n"
      ]
    },
    {
      "cell_type": "markdown",
      "metadata": {
        "id": "8AE-Vw8iHbSZ"
      },
      "source": [
        "Создание тензора"
      ]
    },
    {
      "cell_type": "code",
      "execution_count": null,
      "metadata": {
        "colab": {
          "base_uri": "https://localhost:8080/"
        },
        "id": "Ed-Bg4JOHbSa",
        "outputId": "14d6d6a3-6072-4918-8bb7-665d88b4094c"
      },
      "outputs": [
        {
          "output_type": "stream",
          "name": "stdout",
          "text": [
            "tensor([[-6.7967e-07,  4.5666e-41, -7.3119e-07],\n",
            "        [ 4.5666e-41, -5.3389e-07,  4.5666e-41],\n",
            "        [-7.0882e-07,  4.5666e-41, -7.0877e-07],\n",
            "        [ 4.5666e-41, -7.2292e-07,  4.5666e-41],\n",
            "        [-7.2081e-07,  4.5666e-41, -6.8812e-07]])\n"
          ]
        }
      ],
      "source": [
        "x = torch.empty(5, 3)\n",
        "print(x)"
      ]
    },
    {
      "cell_type": "markdown",
      "metadata": {
        "id": "efjPGo2hHbSd"
      },
      "source": [
        "Случайная инициализация в диапазоне [0; 1]"
      ]
    },
    {
      "cell_type": "code",
      "execution_count": null,
      "metadata": {
        "colab": {
          "base_uri": "https://localhost:8080/"
        },
        "id": "1mfaLeKTHbSe",
        "outputId": "dff4150c-ded1-49a3-8e5f-d2d4ffed2c9d"
      },
      "outputs": [
        {
          "output_type": "stream",
          "name": "stdout",
          "text": [
            "tensor([[0.8341, 0.0180, 0.0352],\n",
            "        [0.6997, 0.8201, 0.6471],\n",
            "        [0.9095, 0.4144, 0.7317],\n",
            "        [0.8288, 0.3143, 0.1800],\n",
            "        [0.3573, 0.5910, 0.7238]])\n"
          ]
        }
      ],
      "source": [
        "x = torch.rand(5, 3)\n",
        "print(x)"
      ]
    },
    {
      "cell_type": "markdown",
      "metadata": {
        "id": "sCS32yP5HbSf"
      },
      "source": [
        "Инициализация нулями"
      ]
    },
    {
      "cell_type": "code",
      "execution_count": null,
      "metadata": {
        "colab": {
          "base_uri": "https://localhost:8080/"
        },
        "id": "jV0vu4fWHbSf",
        "outputId": "fac04788-1e6d-48dc-a5cd-6217a5a7ca3b"
      },
      "outputs": [
        {
          "output_type": "stream",
          "name": "stdout",
          "text": [
            "tensor([[0, 0, 0],\n",
            "        [0, 0, 0],\n",
            "        [0, 0, 0],\n",
            "        [0, 0, 0],\n",
            "        [0, 0, 0]])\n"
          ]
        }
      ],
      "source": [
        "x = torch.zeros(5, 3, dtype=torch.long)\n",
        "print(x)"
      ]
    },
    {
      "cell_type": "markdown",
      "metadata": {
        "id": "cR5_fxQjHbSg"
      },
      "source": [
        "Создание непосредственно из данных"
      ]
    },
    {
      "cell_type": "code",
      "execution_count": null,
      "metadata": {
        "colab": {
          "base_uri": "https://localhost:8080/"
        },
        "id": "_XaCGIsrHbSg",
        "outputId": "7e4768e9-824b-47c0-9256-d42435c3fc1d"
      },
      "outputs": [
        {
          "output_type": "stream",
          "name": "stdout",
          "text": [
            "tensor([5.5000, 3.0000])\n"
          ]
        }
      ],
      "source": [
        "x = torch.tensor([5.5, 3])\n",
        "print(x)"
      ]
    },
    {
      "cell_type": "markdown",
      "metadata": {
        "id": "enXt3O2EHbSh"
      },
      "source": [
        "Из другого тензора"
      ]
    },
    {
      "cell_type": "code",
      "execution_count": null,
      "metadata": {
        "colab": {
          "base_uri": "https://localhost:8080/"
        },
        "id": "tfYa2XNtHbSh",
        "outputId": "4d8cd839-fd7e-4950-ba85-4dfef7f1b045"
      },
      "outputs": [
        {
          "output_type": "stream",
          "name": "stdout",
          "text": [
            "tensor([[1., 1., 1.],\n",
            "        [1., 1., 1.],\n",
            "        [1., 1., 1.],\n",
            "        [1., 1., 1.],\n",
            "        [1., 1., 1.]], dtype=torch.float64)\n",
            "tensor([[-0.4060, -0.0181, -0.6774],\n",
            "        [-0.4574, -0.8045,  1.3948],\n",
            "        [ 2.3655, -0.2676,  0.3849],\n",
            "        [ 1.0001, -1.4454,  0.8617],\n",
            "        [ 0.2797,  0.2810, -1.5000]])\n"
          ]
        }
      ],
      "source": [
        "x = x.new_ones(5, 3, dtype=torch.double)      # new_* methods take in sizes\n",
        "print(x)\n",
        "\n",
        "x = torch.randn_like(x, dtype=torch.float)    # the same size as input that is filled with random numbers from a normal distribution, override dtype!\n",
        "print(x)"
      ]
    },
    {
      "cell_type": "markdown",
      "source": [
        "При преобразовании типа (если он меняется) под данные выделяется новая память"
      ],
      "metadata": {
        "id": "L-oM7IO7U8X4"
      }
    },
    {
      "cell_type": "code",
      "source": [
        "x = torch.Tensor(5, 3)\n",
        "y = x.long()\n",
        "y = x.float()"
      ],
      "metadata": {
        "id": "gBkUz2tLU8Ea"
      },
      "execution_count": null,
      "outputs": []
    },
    {
      "cell_type": "markdown",
      "metadata": {
        "id": "SNENKpeeHbSi"
      },
      "source": [
        "Размер тензора"
      ]
    },
    {
      "cell_type": "code",
      "execution_count": null,
      "metadata": {
        "colab": {
          "base_uri": "https://localhost:8080/"
        },
        "id": "xbKtu1IjHbSi",
        "outputId": "93b7b6d0-bf1e-4241-fb92-095ce83adc60"
      },
      "outputs": [
        {
          "output_type": "execute_result",
          "data": {
            "text/plain": [
              "torch.Size([5, 3])"
            ]
          },
          "metadata": {},
          "execution_count": 8
        }
      ],
      "source": [
        "x.size()"
      ]
    },
    {
      "cell_type": "code",
      "source": [
        "x.shape"
      ],
      "metadata": {
        "colab": {
          "base_uri": "https://localhost:8080/"
        },
        "id": "_amAGT3oMrwy",
        "outputId": "7544958a-fb2e-4c27-9b7f-a154ccfe2951"
      },
      "execution_count": null,
      "outputs": [
        {
          "output_type": "execute_result",
          "data": {
            "text/plain": [
              "torch.Size([5, 3])"
            ]
          },
          "metadata": {},
          "execution_count": 9
        }
      ]
    },
    {
      "cell_type": "markdown",
      "metadata": {
        "id": "MjZS-Ga0HbSi"
      },
      "source": [
        "NB! torch.Size - абстракция от tuple, поэтому поддерживаются те же операции, как и с кортежами"
      ]
    },
    {
      "cell_type": "markdown",
      "metadata": {
        "id": "G1WW3Ev7HbSj"
      },
      "source": [
        "### Операции с тензорами\n"
      ]
    },
    {
      "cell_type": "code",
      "execution_count": null,
      "metadata": {
        "colab": {
          "base_uri": "https://localhost:8080/"
        },
        "id": "6zpTGOKSHbSj",
        "outputId": "5f5d97b5-bb09-4377-cb60-9112886632df"
      },
      "outputs": [
        {
          "output_type": "stream",
          "name": "stdout",
          "text": [
            "tensor([[0.4233, 0.1546, 0.8740],\n",
            "        [0.1989, 0.2291, 0.6066],\n",
            "        [0.6610, 0.2598, 0.6111],\n",
            "        [0.5708, 0.1070, 0.4649],\n",
            "        [0.9717, 0.0444, 0.9573]])\n"
          ]
        }
      ],
      "source": [
        "y = torch.rand(5, 3)\n",
        "print(x + y)"
      ]
    },
    {
      "cell_type": "code",
      "execution_count": null,
      "metadata": {
        "colab": {
          "base_uri": "https://localhost:8080/"
        },
        "id": "KDC_fsaAHbSk",
        "outputId": "ca3d7087-c527-4255-ee12-f321037c8b2a"
      },
      "outputs": [
        {
          "output_type": "stream",
          "name": "stdout",
          "text": [
            "tensor([[0.4233, 0.1546, 0.8740],\n",
            "        [0.1989, 0.2291, 0.6066],\n",
            "        [0.6610, 0.2598, 0.6111],\n",
            "        [0.5708, 0.1070, 0.4649],\n",
            "        [0.9717, 0.0444, 0.9573]])\n"
          ]
        }
      ],
      "source": [
        "print(torch.add(x, y))"
      ]
    },
    {
      "cell_type": "markdown",
      "metadata": {
        "id": "RcWj30xGHbSl"
      },
      "source": [
        "Выходная переменная как параметр"
      ]
    },
    {
      "cell_type": "code",
      "execution_count": null,
      "metadata": {
        "colab": {
          "base_uri": "https://localhost:8080/"
        },
        "id": "zcAlCBb-HbSl",
        "outputId": "25c15f02-f9f7-473c-edf5-1ccdf06c53d6"
      },
      "outputs": [
        {
          "output_type": "stream",
          "name": "stdout",
          "text": [
            "tensor([[0.4233, 0.1546, 0.8740],\n",
            "        [0.1989, 0.2291, 0.6066],\n",
            "        [0.6610, 0.2598, 0.6111],\n",
            "        [0.5708, 0.1070, 0.4649],\n",
            "        [0.9717, 0.0444, 0.9573]])\n"
          ]
        }
      ],
      "source": [
        "result = torch.empty(5, 3)\n",
        "torch.add(x, y, out=result)\n",
        "print(result)"
      ]
    },
    {
      "cell_type": "markdown",
      "metadata": {
        "id": "MtQNzjG-HbSm"
      },
      "source": [
        "in-place операции - operation_ syntax, новая память не выделяется"
      ]
    },
    {
      "cell_type": "code",
      "execution_count": null,
      "metadata": {
        "colab": {
          "base_uri": "https://localhost:8080/"
        },
        "id": "HXRpa24sHbSm",
        "outputId": "130e664b-a1cf-43cb-a8bd-3f8c7eac21e0"
      },
      "outputs": [
        {
          "output_type": "execute_result",
          "data": {
            "text/plain": [
              "tensor([[0.4233, 0.1546, 0.8740],\n",
              "        [0.1989, 0.2291, 0.6066],\n",
              "        [0.6610, 0.2598, 0.6111],\n",
              "        [0.5708, 0.1070, 0.4649],\n",
              "        [0.9717, 0.0444, 0.9573]])"
            ]
          },
          "metadata": {},
          "execution_count": 13
        }
      ],
      "source": [
        "x.add(y)"
      ]
    },
    {
      "cell_type": "code",
      "execution_count": null,
      "metadata": {
        "colab": {
          "base_uri": "https://localhost:8080/"
        },
        "id": "OrZ1ScyaHbSn",
        "outputId": "e34869d6-c4b4-4767-f3e4-8e4adc3a3e7c"
      },
      "outputs": [
        {
          "output_type": "execute_result",
          "data": {
            "text/plain": [
              "tensor([[0.4233, 0.1546, 0.8740],\n",
              "        [0.1989, 0.2291, 0.6066],\n",
              "        [0.6610, 0.2598, 0.6111],\n",
              "        [0.5708, 0.1070, 0.4649],\n",
              "        [0.9717, 0.0444, 0.9573]])"
            ]
          },
          "metadata": {},
          "execution_count": 14
        }
      ],
      "source": [
        "x.add_(y)"
      ]
    },
    {
      "cell_type": "markdown",
      "metadata": {
        "id": "W7Lj2P0UHbSo"
      },
      "source": [
        "Синтаксический сахар NumPy индексации"
      ]
    },
    {
      "cell_type": "code",
      "execution_count": null,
      "metadata": {
        "colab": {
          "base_uri": "https://localhost:8080/"
        },
        "id": "KE5Fah0iHbSo",
        "outputId": "a4a50d13-300b-4d90-e07b-536e9a2c552d"
      },
      "outputs": [
        {
          "output_type": "stream",
          "name": "stdout",
          "text": [
            "tensor([0.1546, 0.2291, 0.2598, 0.1070, 0.0444])\n"
          ]
        }
      ],
      "source": [
        "print(x[:, 1])"
      ]
    },
    {
      "cell_type": "markdown",
      "metadata": {
        "id": "lvS7Y3YgHbSo"
      },
      "source": [
        "Форма тензора (число индексов и их размерности) меняется функциями `view` и `reshape`"
      ]
    },
    {
      "cell_type": "code",
      "execution_count": null,
      "metadata": {
        "colab": {
          "base_uri": "https://localhost:8080/"
        },
        "id": "mZF0GUhtHbSo",
        "outputId": "84961ca9-d735-4895-f17c-a4300563468e"
      },
      "outputs": [
        {
          "output_type": "stream",
          "name": "stdout",
          "text": [
            "torch.Size([4, 4]) torch.Size([16]) torch.Size([2, 8])\n"
          ]
        }
      ],
      "source": [
        "x = torch.randn(4, 4)\n",
        "y = x.view(16)\n",
        "z = x.view(-1, 8) # Одна из размерностей может быть равна -1 и тогда она будет посчитана автоматически\n",
        "print(x.size(), y.size(), z.size())"
      ]
    },
    {
      "cell_type": "markdown",
      "source": [
        "`view` - создает другое представление исходного тензора. При изменении формы `view` меняется `x.stride()`. Новый тензор всегда делит (share) данные с исходным тензором\n",
        "\n",
        "`reshape` не дает гарантии на шэринг данных: сначала проверяется `is_contiguous` и если результа - False, вызывается `contiguous` (создаёт новую память). После этого вызывается `view`"
      ],
      "metadata": {
        "id": "Td4AN9DEW_lV"
      }
    },
    {
      "cell_type": "code",
      "source": [
        "x = torch.randn(4, 4)\n",
        "y = x.reshape(16)\n",
        "z = x.reshape(-1, 8)\n",
        "print(x.size(), y.size(), z.size())"
      ],
      "metadata": {
        "colab": {
          "base_uri": "https://localhost:8080/"
        },
        "id": "o_lWRGR6V0A9",
        "outputId": "dfa2fa7e-0b43-4157-d4c0-bbbef60ed87d"
      },
      "execution_count": null,
      "outputs": [
        {
          "output_type": "stream",
          "name": "stdout",
          "text": [
            "torch.Size([4, 4]) torch.Size([16]) torch.Size([2, 8])\n"
          ]
        }
      ]
    },
    {
      "cell_type": "markdown",
      "metadata": {
        "id": "iz551EmlHbSp"
      },
      "source": [
        "Получение значения тензора из одного элемента"
      ]
    },
    {
      "cell_type": "code",
      "execution_count": null,
      "metadata": {
        "colab": {
          "base_uri": "https://localhost:8080/"
        },
        "id": "gsAk9MudHbSp",
        "outputId": "38e2672e-2faa-4bb9-c871-148e53860ffd"
      },
      "outputs": [
        {
          "output_type": "stream",
          "name": "stdout",
          "text": [
            "tensor([1.9939])\n",
            "1.993883490562439\n"
          ]
        }
      ],
      "source": [
        "x = torch.randn(1)\n",
        "print(x)\n",
        "print(x.item())"
      ]
    },
    {
      "cell_type": "code",
      "execution_count": null,
      "metadata": {
        "colab": {
          "base_uri": "https://localhost:8080/"
        },
        "id": "6fY57dMyHbSp",
        "outputId": "f31e6942-6e53-4c4c-a47b-958b3869f2e0"
      },
      "outputs": [
        {
          "output_type": "execute_result",
          "data": {
            "text/plain": [
              "-0.02648058533668518"
            ]
          },
          "metadata": {},
          "execution_count": 19
        }
      ],
      "source": [
        "y[1].item()"
      ]
    },
    {
      "cell_type": "markdown",
      "metadata": {
        "id": "sPqMWMNoHbSq"
      },
      "source": [
        "Проверка доступности GPU и создание тензора на GPU"
      ]
    },
    {
      "cell_type": "code",
      "execution_count": null,
      "metadata": {
        "id": "gh929KmCHbSq",
        "colab": {
          "base_uri": "https://localhost:8080/"
        },
        "outputId": "f30d234f-9ad0-4b5a-d6ba-a36135e5993a"
      },
      "outputs": [
        {
          "output_type": "stream",
          "name": "stdout",
          "text": [
            "tensor([2.9939], device='cuda:0')\n",
            "tensor([2.9939], dtype=torch.float64)\n"
          ]
        }
      ],
      "source": [
        "if torch.cuda.is_available():\n",
        "    device = torch.device(\"cuda\")          # a CUDA device object\n",
        "    y = torch.ones_like(x, device=device)  # directly create a tensor on GPU\n",
        "    x = x.to(device)                       # or just use strings ``.to(\"cuda\")``\n",
        "    z = x + y\n",
        "    print(z)\n",
        "    print(z.to(\"cpu\", torch.double))"
      ]
    },
    {
      "cell_type": "markdown",
      "source": [
        "Чтобы не прописывать device руками"
      ],
      "metadata": {
        "id": "qClsNFnCZOLc"
      }
    },
    {
      "cell_type": "code",
      "source": [
        "if torch.cuda.is_available():\n",
        "  device = \"cuda:0\"\n",
        "else:\n",
        "  device = \"cpu\"\n",
        "device"
      ],
      "metadata": {
        "colab": {
          "base_uri": "https://localhost:8080/",
          "height": 35
        },
        "id": "14cp1ImnZKEI",
        "outputId": "888190df-4426-467c-817e-0cfd4e1ced61"
      },
      "execution_count": null,
      "outputs": [
        {
          "output_type": "execute_result",
          "data": {
            "text/plain": [
              "'cuda:0'"
            ],
            "application/vnd.google.colaboratory.intrinsic+json": {
              "type": "string"
            }
          },
          "metadata": {},
          "execution_count": 21
        }
      ]
    },
    {
      "cell_type": "markdown",
      "source": [
        "Выигрыш во времени от использования GPU"
      ],
      "metadata": {
        "id": "bUUTF9kdYyDj"
      }
    },
    {
      "cell_type": "code",
      "source": [
        "%%time\n",
        "\n",
        "x1 = torch.eye(10000)\n",
        "y1 = torch.eye(10000)\n",
        "z1 = x1.mm(y1)"
      ],
      "metadata": {
        "colab": {
          "base_uri": "https://localhost:8080/"
        },
        "id": "LBIKZWcOYnpn",
        "outputId": "35e139e4-a81f-4925-fb15-33b407f9f7d9"
      },
      "execution_count": null,
      "outputs": [
        {
          "output_type": "stream",
          "name": "stdout",
          "text": [
            "CPU times: user 27 s, sys: 709 ms, total: 27.7 s\n",
            "Wall time: 28.1 s\n"
          ]
        }
      ]
    },
    {
      "cell_type": "code",
      "source": [
        "%%time\n",
        "\n",
        "x1 = torch.eye(10000, device=device)\n",
        "y1 = torch.eye(10000, device=device)\n",
        "z1 = x1.mm(y1)"
      ],
      "metadata": {
        "colab": {
          "base_uri": "https://localhost:8080/"
        },
        "id": "-sBn0ix2YntI",
        "outputId": "5f5c5af9-ac15-44b7-a148-6907f243012f"
      },
      "execution_count": null,
      "outputs": [
        {
          "output_type": "stream",
          "name": "stdout",
          "text": [
            "CPU times: user 431 ms, sys: 265 ms, total: 696 ms\n",
            "Wall time: 2.78 s\n"
          ]
        }
      ]
    },
    {
      "cell_type": "markdown",
      "metadata": {
        "id": "9NSTCyMhHbSq"
      },
      "source": [
        "### Autograd - automatic differentiation engine\n",
        "\n",
        "[PyTorch 101, Part 1: Understanding Graphs, Automatic Differentiation and Autograd](https://blog.paperspace.com/pytorch-101-understanding-graphs-and-automatic-differentiation/)\n",
        "\n",
        "В центре большинства современных приемов машинного обучения лежит расчет градиентов. Это в особенности касается нейронных сетей, где для обновления весовых коэффициентов используется алгоритм обратного распространения\n",
        "\n",
        "Autograd предоставляет классы и функции, реализующие автоматическое дифференцирование произвольных скалярных функций. Это требует минимальных изменений в существующем коде - нужно только объявить Tensor, для которого должны вычисляться градиенты, с атрибутом `requires_grad=True`"
      ]
    },
    {
      "cell_type": "code",
      "execution_count": null,
      "metadata": {
        "colab": {
          "base_uri": "https://localhost:8080/"
        },
        "id": "JcdJCnP5HbSr",
        "outputId": "882b1d90-22d0-48f9-b1ab-3a82355db6e8"
      },
      "outputs": [
        {
          "output_type": "stream",
          "name": "stdout",
          "text": [
            "tensor([[1., 1.],\n",
            "        [1., 1.]], requires_grad=True)\n"
          ]
        }
      ],
      "source": [
        "x = torch.ones(2, 2, requires_grad=True)\n",
        "print(x)"
      ]
    },
    {
      "cell_type": "code",
      "source": [
        "x.grad == None"
      ],
      "metadata": {
        "colab": {
          "base_uri": "https://localhost:8080/"
        },
        "id": "JbgJ9x8CcFJ6",
        "outputId": "5c62cc95-6d76-4fb6-c7b4-9ce7aebfe3b4"
      },
      "execution_count": null,
      "outputs": [
        {
          "output_type": "execute_result",
          "data": {
            "text/plain": [
              "True"
            ]
          },
          "metadata": {},
          "execution_count": 25
        }
      ]
    },
    {
      "cell_type": "code",
      "source": [
        "x.grad_fn == None"
      ],
      "metadata": {
        "colab": {
          "base_uri": "https://localhost:8080/"
        },
        "id": "b_i-OcPLb-Rv",
        "outputId": "b6dc6c9b-c8c0-43f8-b937-4ad516247c3b"
      },
      "execution_count": null,
      "outputs": [
        {
          "output_type": "execute_result",
          "data": {
            "text/plain": [
              "True"
            ]
          },
          "metadata": {},
          "execution_count": 26
        }
      ]
    },
    {
      "cell_type": "markdown",
      "metadata": {
        "id": "U0VM8aIlHbSr"
      },
      "source": [
        "После применения какой-либо операции к тензору атрибуту `grad_fn`  присваивается объект `Function`, который добавляется в граф вычислений для обратного распространения градиента.\n",
        "\n"
      ]
    },
    {
      "cell_type": "code",
      "execution_count": null,
      "metadata": {
        "colab": {
          "base_uri": "https://localhost:8080/"
        },
        "id": "ZIcFl4AWHbSs",
        "outputId": "aa130744-e0d3-4027-83f1-e636be9f7def"
      },
      "outputs": [
        {
          "output_type": "stream",
          "name": "stdout",
          "text": [
            "tensor([[3., 3.],\n",
            "        [3., 3.]], grad_fn=<AddBackward0>)\n"
          ]
        }
      ],
      "source": [
        "y = x + 2\n",
        "print(y)"
      ]
    },
    {
      "cell_type": "code",
      "execution_count": null,
      "metadata": {
        "colab": {
          "base_uri": "https://localhost:8080/"
        },
        "id": "of4Eh18aHbSs",
        "outputId": "8e96be6c-a183-4992-f0a9-b2230e9be7f7"
      },
      "outputs": [
        {
          "output_type": "stream",
          "name": "stdout",
          "text": [
            "tensor([[27., 27.],\n",
            "        [27., 27.]], grad_fn=<MulBackward0>) tensor(27., grad_fn=<MeanBackward0>)\n"
          ]
        }
      ],
      "source": [
        "z = y * y * 3\n",
        "out = z.mean()\n",
        "\n",
        "print(z, out)"
      ]
    },
    {
      "cell_type": "markdown",
      "metadata": {
        "id": "39gLEvmAHbSt"
      },
      "source": [
        "`.grad_fn` может менять \"на лету\""
      ]
    },
    {
      "cell_type": "code",
      "execution_count": null,
      "metadata": {
        "colab": {
          "base_uri": "https://localhost:8080/"
        },
        "id": "va5zd2xMHbSt",
        "outputId": "0bb8f68e-6a33-438e-b6ef-1cf5a2187481"
      },
      "outputs": [
        {
          "output_type": "stream",
          "name": "stdout",
          "text": [
            "False\n",
            "True\n",
            "<SumBackward0 object at 0x7f4bd545e430>\n"
          ]
        }
      ],
      "source": [
        "a = torch.randn(2, 2)\n",
        "a = ((a * 3) / (a - 1))\n",
        "print(a.requires_grad)\n",
        "a.requires_grad_(True)\n",
        "print(a.requires_grad)\n",
        "b = (a * a).sum()\n",
        "print(b.grad_fn)"
      ]
    },
    {
      "cell_type": "markdown",
      "metadata": {
        "id": "lZcXFmziHbSt"
      },
      "source": [
        "Метод `backward` корневого узла графа вычислений запускает процедуру вычисления градиентов в листовых (is_leaf) узлах, имеющих атрибут requires_grad. Граф дифференцируется по цепочке (chain rule)"
      ]
    },
    {
      "cell_type": "code",
      "execution_count": null,
      "metadata": {
        "id": "yyNpdWrzHbSu"
      },
      "outputs": [],
      "source": [
        "out.backward()"
      ]
    },
    {
      "cell_type": "code",
      "execution_count": null,
      "metadata": {
        "colab": {
          "base_uri": "https://localhost:8080/"
        },
        "id": "bSpM1ECkHbSu",
        "outputId": "c4da2859-1a54-4d25-b93c-816e6638ddb4"
      },
      "outputs": [
        {
          "output_type": "stream",
          "name": "stdout",
          "text": [
            "tensor([[4.5000, 4.5000],\n",
            "        [4.5000, 4.5000]])\n"
          ]
        }
      ],
      "source": [
        "print(x.grad)"
      ]
    },
    {
      "cell_type": "markdown",
      "source": [
        "По умолчанию промежуточные (не листовые) узлы графа не хранят прошедшие через них градиентов."
      ],
      "metadata": {
        "id": "LpYFZQuze1u-"
      }
    },
    {
      "cell_type": "code",
      "source": [
        "print(y.grad)"
      ],
      "metadata": {
        "colab": {
          "base_uri": "https://localhost:8080/"
        },
        "id": "AEcfJluqe1eQ",
        "outputId": "2884609f-7ba2-4c94-df7b-83a5c50a0e73"
      },
      "execution_count": null,
      "outputs": [
        {
          "output_type": "stream",
          "name": "stdout",
          "text": [
            "None\n"
          ]
        },
        {
          "output_type": "stream",
          "name": "stderr",
          "text": [
            "<ipython-input-32-b81046718426>:1: UserWarning: The .grad attribute of a Tensor that is not a leaf Tensor is being accessed. Its .grad attribute won't be populated during autograd.backward(). If you indeed want the .grad field to be populated for a non-leaf Tensor, use .retain_grad() on the non-leaf Tensor. If you access the non-leaf Tensor by mistake, make sure you access the leaf Tensor instead. See github.com/pytorch/pytorch/pull/30531 for more informations. (Triggered internally at aten/src/ATen/core/TensorBody.h:486.)\n",
            "  print(y.grad)\n"
          ]
        }
      ]
    },
    {
      "cell_type": "markdown",
      "source": [
        "Эту ситуацию можно изменить, вызвав для для конкретного узла метод retain_grad"
      ],
      "metadata": {
        "id": "6KEkSd3oe7g_"
      }
    },
    {
      "cell_type": "code",
      "source": [
        "x = torch.ones(2, 2, requires_grad=True)\n",
        "y = x + 2\n",
        "y.retain_grad()\n",
        "z = y * y * 3\n",
        "out = z.mean()\n",
        "out.backward()"
      ],
      "metadata": {
        "id": "19q2HQX8e7JW"
      },
      "execution_count": null,
      "outputs": []
    },
    {
      "cell_type": "code",
      "source": [
        "print(x.grad)"
      ],
      "metadata": {
        "colab": {
          "base_uri": "https://localhost:8080/"
        },
        "id": "LXSMmRATfHVO",
        "outputId": "2c371fdc-ebbf-4b0f-e233-3c216ef19239"
      },
      "execution_count": null,
      "outputs": [
        {
          "output_type": "stream",
          "name": "stdout",
          "text": [
            "tensor([[4.5000, 4.5000],\n",
            "        [4.5000, 4.5000]])\n"
          ]
        }
      ]
    },
    {
      "cell_type": "code",
      "source": [
        "print(y.grad)"
      ],
      "metadata": {
        "colab": {
          "base_uri": "https://localhost:8080/"
        },
        "id": "S9KDgTYLfEib",
        "outputId": "5ae8384e-39fc-46ab-9451-e019b7427fd1"
      },
      "execution_count": null,
      "outputs": [
        {
          "output_type": "stream",
          "name": "stdout",
          "text": [
            "tensor([[4.5000, 4.5000],\n",
            "        [4.5000, 4.5000]])\n"
          ]
        }
      ]
    },
    {
      "cell_type": "markdown",
      "metadata": {
        "id": "CD3WUBM3HbSw"
      },
      "source": [
        "Иногда с листовыми узлами необходимо проделать действия, не меняя при этом графа. Такие действия проводят, используя контекстный менедежр `no_grad`, которое блокирует создание новых узлов графа"
      ]
    },
    {
      "cell_type": "code",
      "execution_count": null,
      "metadata": {
        "colab": {
          "base_uri": "https://localhost:8080/"
        },
        "id": "ueu6nMZQHbSw",
        "outputId": "413d2e51-5789-49ea-b405-1475da821c30"
      },
      "outputs": [
        {
          "output_type": "stream",
          "name": "stdout",
          "text": [
            "True\n",
            "True\n",
            "False\n"
          ]
        }
      ],
      "source": [
        "print(x.requires_grad)\n",
        "print((x ** 2).requires_grad)\n",
        "\n",
        "with torch.no_grad(): # потом можно включить вручную torch.enable_grad()\n",
        "    print((x ** 2).requires_grad)\n"
      ]
    },
    {
      "cell_type": "code",
      "source": [],
      "metadata": {
        "id": "YdrSm6g6M4DE"
      },
      "execution_count": null,
      "outputs": []
    }
  ],
  "metadata": {
    "kernelspec": {
      "display_name": "Python 3",
      "language": "python",
      "name": "python3"
    },
    "language_info": {
      "codemirror_mode": {
        "name": "ipython",
        "version": 3
      },
      "file_extension": ".py",
      "mimetype": "text/x-python",
      "name": "python",
      "nbconvert_exporter": "python",
      "pygments_lexer": "ipython3",
      "version": "3.7.4"
    },
    "colab": {
      "provenance": [],
      "toc_visible": true
    },
    "accelerator": "GPU",
    "gpuClass": "standard"
  },
  "nbformat": 4,
  "nbformat_minor": 0
}